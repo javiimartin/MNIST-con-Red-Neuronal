{
  "cells": [
    {
      "cell_type": "markdown",
      "id": "cCAFyu-T6P3i",
      "metadata": {
        "id": "cCAFyu-T6P3i"
      },
      "source": [
        "# Configuración del entorno"
      ]
    },
    {
      "cell_type": "code",
      "execution_count": 1,
      "id": "WZEQpFjKNdyo",
      "metadata": {
        "colab": {
          "base_uri": "https://localhost:8080/"
        },
        "id": "WZEQpFjKNdyo",
        "outputId": "31144d72-4c38-46df-dbbe-cac5cefe3c8a"
      },
      "outputs": [
        {
          "name": "stdout",
          "output_type": "stream",
          "text": [
            "Mounted at /content/drive\n"
          ]
        }
      ],
      "source": [
        "from google.colab import drive\n",
        "drive.mount('/content/drive')"
      ]
    },
    {
      "cell_type": "code",
      "execution_count": 2,
      "id": "F1dMcTiHNlV3",
      "metadata": {
        "colab": {
          "base_uri": "https://localhost:8080/"
        },
        "id": "F1dMcTiHNlV3",
        "outputId": "10da1fb6-0b4c-4ab5-ef07-b8c37bd51870"
      },
      "outputs": [
        {
          "name": "stdout",
          "output_type": "stream",
          "text": [
            "/content/drive/My Drive/InteligenciaComputacional/codigo\n"
          ]
        }
      ],
      "source": [
        "%cd /content/drive/My Drive/InteligenciaComputacional/codigo/"
      ]
    },
    {
      "cell_type": "code",
      "execution_count": 3,
      "id": "fIbEXjTLWe0Y",
      "metadata": {
        "id": "fIbEXjTLWe0Y"
      },
      "outputs": [],
      "source": [
        "import matplotlib.pyplot as plt\n",
        "import numpy as np\n",
        "import random\n",
        "import tensorflow as tf\n",
        "from tensorflow.keras.preprocessing.image import ImageDataGenerator\n",
        "import time"
      ]
    },
    {
      "cell_type": "markdown",
      "id": "oiMsD_-eoRP9",
      "metadata": {
        "id": "oiMsD_-eoRP9"
      },
      "source": [
        "# Lectura de datos de entrenamiento"
      ]
    },
    {
      "cell_type": "code",
      "execution_count": 5,
      "id": "1b9340cf-013f-4f07-adf9-b9c60e887d35",
      "metadata": {
        "colab": {
          "base_uri": "https://localhost:8080/",
          "height": 448
        },
        "id": "1b9340cf-013f-4f07-adf9-b9c60e887d35",
        "outputId": "b4fd1691-da5a-4da8-df04-37a730e1ef72"
      },
      "outputs": [
        {
          "data": {
            "text/plain": [
              "<matplotlib.image.AxesImage at 0x7b7924ffa530>"
            ]
          },
          "execution_count": 5,
          "metadata": {},
          "output_type": "execute_result"
        },
        {
          "data": {
            "image/png": "[encoded data removed]",
            "text/plain": [
              "<Figure size 640x480 with 1 Axes>"
            ]
          },
          "metadata": {},
          "output_type": "display_data"
        }
      ],
      "source": [
        "\n",
        "# Ejemplo de lectura de MNIST (imágenes). Leer archivo en binario\n",
        "f = open('./../datos/train-images-idx3-ubyte/train-images.idx3-ubyte', 'rb')\n",
        "\n",
        "# Descartar cabecera (16 bytes)\n",
        "f.read(16)\n",
        "\n",
        "# El resto de datos son las imágenes.\n",
        "# La intensidad en escala de grises para cada píxel se guarda en un byte\n",
        "# Las imágenes son de 28 * 28 por lo que ocupan 784 bytes adyacentes\n",
        "images = []\n",
        "while True:\n",
        "    # Leemos la siguiente imagen\n",
        "    image = f.read(784)\n",
        "    if len(image) != 784: # Si no queda imagen parar\n",
        "        break\n",
        "    else: # Conversión de binario a entero\n",
        "        images.append([x for x in image])\n",
        "\n",
        "# Conversión a array de NumPy\n",
        "images = np.array(images)\n",
        "\n",
        "# Muestra por pantalla el primer número para comprobar\n",
        "plt.imshow(images[1].reshape(28,28), cmap='gray')"
      ]
    },
    {
      "cell_type": "code",
      "execution_count": 6,
      "id": "ad7db85b-eafc-45fe-b4cc-6def55528734",
      "metadata": {
        "colab": {
          "base_uri": "https://localhost:8080/"
        },
        "id": "ad7db85b-eafc-45fe-b4cc-6def55528734",
        "outputId": "151a97f6-1969-4bbc-940e-acde75656b53"
      },
      "outputs": [
        {
          "name": "stdout",
          "output_type": "stream",
          "text": [
            "[5 0 4 ... 5 6 8]\n"
          ]
        }
      ],
      "source": [
        "# Lectura de etiquetas\n",
        "f = open('../datos/train-labels-idx1-ubyte/train-labels.idx1-ubyte', 'rb')\n",
        "\n",
        "# Descartar cabecera (8 bytes)\n",
        "f.read(8)\n",
        "\n",
        "# El resto de datos son las etiquetas. Cada etiqueta es un byte\n",
        "etiquetas = np.array([x for x in f.read()])\n",
        "print(etiquetas)"
      ]
    },
    {
      "cell_type": "markdown",
      "id": "WlPmrJX4rqXa",
      "metadata": {
        "id": "WlPmrJX4rqXa"
      },
      "source": [
        "## Datos para test"
      ]
    },
    {
      "cell_type": "code",
      "execution_count": 7,
      "id": "ceca715e-5dbf-4a73-8432-b330a0eddcae",
      "metadata": {
        "colab": {
          "base_uri": "https://localhost:8080/",
          "height": 448
        },
        "id": "ceca715e-5dbf-4a73-8432-b330a0eddcae",
        "outputId": "eedf659a-ef2d-4c36-8c67-2ad8b171bedf"
      },
      "outputs": [
        {
          "data": {
            "text/plain": [
              "<matplotlib.image.AxesImage at 0x7b7924e4d450>"
            ]
          },
          "execution_count": 7,
          "metadata": {},
          "output_type": "execute_result"
        },
        {
          "data": {
            "image/png": "[encoded data removed]",
            "text/plain": [
              "<Figure size 640x480 with 1 Axes>"
            ]
          },
          "metadata": {},
          "output_type": "display_data"
        }
      ],
      "source": [
        "import matplotlib.pyplot as plt\n",
        "import numpy as np\n",
        "# Ejemplo de lectura de MNIST (imágenes). Leer archivo en binario\n",
        "f_test = open('./../datos/t10k-images-idx3-ubyte/t10k-images.idx3-ubyte', 'rb')\n",
        "\n",
        "# Descartar cabecera (16 bytes)\n",
        "f_test.read(16)\n",
        "\n",
        "# El resto de datos son las imágenes.\n",
        "# La intensidad en escala de grises para cada píxel se guarda en un byte\n",
        "# Las imágenes son de 28 * 28 por lo que ocupan 784 bytes adyacentes\n",
        "images_test = []\n",
        "while True:\n",
        "    # Leemos la siguiente imagen\n",
        "    image = f_test.read(784)\n",
        "    if len(image) != 784: # Si no queda imagen parar\n",
        "        break\n",
        "    else: # Conversión de binario a entero\n",
        "        images_test.append([x for x in image])\n",
        "\n",
        "# Conversión a array de NumPy\n",
        "images_test = np.array(images_test)\n",
        "\n",
        "# Muestra por pantalla el primer número para comprobar\n",
        "plt.imshow(images_test[1].reshape(28,28), cmap='gray')"
      ]
    },
    {
      "cell_type": "code",
      "execution_count": 8,
      "id": "9CUyupKqNcq3",
      "metadata": {
        "colab": {
          "base_uri": "https://localhost:8080/"
        },
        "id": "9CUyupKqNcq3",
        "outputId": "ecb913a6-bf48-4bf9-bb93-67ca6a73595b"
      },
      "outputs": [
        {
          "name": "stdout",
          "output_type": "stream",
          "text": [
            "[7 2 1 ... 4 5 6]\n"
          ]
        }
      ],
      "source": [
        "# Lectura de etiquetas\n",
        "f = open('../datos/t10k-labels-idx1-ubyte/t10k-labels.idx1-ubyte', 'rb')\n",
        "\n",
        "# Descartar cabecera (8 bytes)\n",
        "f.read(8)\n",
        "\n",
        "# El resto de datos son las etiquetas. Cada etiqueta es un byte\n",
        "etiquetas_test = np.array([x for x in f.read()])\n",
        "print(etiquetas_test)\n",
        "#print(etiquetas_test.shape)"
      ]
    },
    {
      "cell_type": "markdown",
      "id": "vvaOqvjEoZgU",
      "metadata": {
        "id": "vvaOqvjEoZgU"
      },
      "source": [
        "# Preparación de los datos"
      ]
    },
    {
      "cell_type": "code",
      "execution_count": 9,
      "id": "Ueyld0MZoHG-",
      "metadata": {
        "id": "Ueyld0MZoHG-"
      },
      "outputs": [],
      "source": [
        "# Normalizar imágenes\n",
        "images = images / 255.0\n",
        "images_test = images_test / 255.0"
      ]
    },
    {
      "cell_type": "code",
      "execution_count": 10,
      "id": "GToDEPgW4OLR",
      "metadata": {
        "id": "GToDEPgW4OLR"
      },
      "outputs": [],
      "source": [
        "# Cambiar la forma de las imágenes para usar redes convolutivas (28x28x1)\n",
        "images = images.reshape(-1, 28, 28, 1)\n",
        "images_test = images_test.reshape(-1, 28, 28, 1)\n",
        "\n",
        "# Convertir etiquetas a one-hot encoding\n",
        "etiquetas = tf.keras.utils.to_categorical(etiquetas, num_classes=10)"
      ]
    },
    {
      "cell_type": "markdown",
      "id": "qQpFMABhouT7",
      "metadata": {
        "id": "qQpFMABhouT7"
      },
      "source": [
        "# Aumento de datos\n",
        "Para mejorar la capacidad de generalización del modelo, generamos imágenes aumentadas aplicando rotaciones, desplazamientos, y zoom. Posteriormente, concatenamos las imágenes originales con las imágenes aumentadas para entrenar con un conjunto de datos más amplio.\n",
        "\n"
      ]
    },
    {
      "cell_type": "code",
      "execution_count": 11,
      "id": "eUi5LmIBQiLu",
      "metadata": {
        "id": "eUi5LmIBQiLu"
      },
      "outputs": [],
      "source": [
        "# Crear un generador de datos para generar nuevas imágenes\n",
        "datagen = ImageDataGenerator(\n",
        "    rotation_range=20,       # Rotar hasta 20 grados\n",
        "    width_shift_range=0.15,   # Desplazar horizontalmente hasta un 15%\n",
        "    height_shift_range=0.15,  # Desplazar verticalmente hasta un 15%\n",
        "    zoom_range=0.2           # Aplicar zoom hasta un 20%\n",
        ")\n",
        "\n",
        "# Ajustar el generador a los datos iniciales\n",
        "datagen.fit(images)\n",
        "\n",
        "# Generar nuevas imágenes\n",
        "n_images_to_generate = len(images)  # Duplicar el tamaño\n",
        "generated_images = []\n",
        "generated_labels = []\n",
        "\n",
        "for x, y in datagen.flow(images, etiquetas, batch_size=1):\n",
        "    generated_images.append(x[0])  # Extraer imagen generada\n",
        "    generated_labels.append(y[0])  # Extraer etiqueta correspondiente\n",
        "\n",
        "    if len(generated_images) >= n_images_to_generate:\n",
        "        break\n",
        "\n",
        "# Convertir a arrays NumPy\n",
        "generated_images = np.array(generated_images)\n",
        "generated_labels = np.array(generated_labels)\n",
        "\n",
        "# Concatenar datos originales y generados\n",
        "images_augmented = np.concatenate((images, generated_images), axis=0)\n",
        "etiquetas_augmented = np.concatenate((etiquetas, generated_labels), axis=0)"
      ]
    },
    {
      "cell_type": "markdown",
      "id": "RZ-friC2odsE",
      "metadata": {
        "id": "RZ-friC2odsE"
      },
      "source": [
        "# Construcción del modelo\n",
        "\n",
        "A continuación se define una red neuronal convolucional con regularización L2 para evitar sobreajuste, batch normalization para estabilizar el entrenamiento y dropout para mejorar la generalización."
      ]
    },
    {
      "cell_type": "code",
      "execution_count": 12,
      "id": "CyWncbE3KtX6",
      "metadata": {
        "id": "CyWncbE3KtX6"
      },
      "outputs": [],
      "source": [
        "import tensorflow as tf\n",
        "from tensorflow.keras.models import Sequential\n",
        "from tensorflow.keras.layers import Conv2D, MaxPooling2D, Flatten, Dense, Dropout, BatchNormalization\n",
        "import tensorflow.keras.regularizers as regularizers\n",
        "\n",
        "# Ajustamos la regularización L2 (más suave)\n",
        "weight_decay = 1e-5\n",
        "\n",
        "model = tf.keras.models.Sequential([\n",
        "    tf.keras.layers.Conv2D(64, (3, 3), activation='relu',\n",
        "                           kernel_regularizer=regularizers.l2(weight_decay)),\n",
        "    tf.keras.layers.BatchNormalization(),\n",
        "    tf.keras.layers.MaxPooling2D((2, 2)),\n",
        "\n",
        "    tf.keras.layers.Conv2D(128, (3, 3), activation='relu',\n",
        "                           kernel_regularizer=regularizers.l2(weight_decay)),\n",
        "    tf.keras.layers.BatchNormalization(),\n",
        "    tf.keras.layers.Conv2D(256, (3, 3), activation='relu',\n",
        "                           kernel_regularizer=regularizers.l2(weight_decay)),\n",
        "    tf.keras.layers.BatchNormalization(),\n",
        "    tf.keras.layers.MaxPooling2D((2, 2)),\n",
        "\n",
        "    tf.keras.layers.Flatten(),\n",
        "    tf.keras.layers.Dense(256, activation='relu', kernel_regularizer=regularizers.l2(weight_decay)),\n",
        "    tf.keras.layers.BatchNormalization(),\n",
        "    tf.keras.layers.Dropout(0.3),\n",
        "\n",
        "    tf.keras.layers.Dense(128, activation='relu', kernel_regularizer=regularizers.l2(weight_decay)),\n",
        "    tf.keras.layers.BatchNormalization(),\n",
        "    tf.keras.layers.Dropout(0.3),\n",
        "\n",
        "    tf.keras.layers.Dense(64, activation='relu', kernel_regularizer=regularizers.l2(weight_decay)),\n",
        "    tf.keras.layers.BatchNormalization(),\n",
        "    tf.keras.layers.Dropout(0.1),\n",
        "\n",
        "    tf.keras.layers.Dense(10, activation='softmax')\n",
        "])"
      ]
    },
    {
      "cell_type": "markdown",
      "id": "PzP-7qkqoyZS",
      "metadata": {
        "id": "PzP-7qkqoyZS"
      },
      "source": [
        "# Callbacks\n",
        "\n",
        "Se configura un callback ReduceLROnPlateau para disminuir el learning rate cuando el modelo deja de mejorar."
      ]
    },
    {
      "cell_type": "code",
      "execution_count": 13,
      "id": "Mq1d87RmP6YU",
      "metadata": {
        "id": "Mq1d87RmP6YU"
      },
      "outputs": [],
      "source": [
        "from tensorflow.keras.callbacks import ReduceLROnPlateau\n",
        "\n",
        "# Definir el callback para reducir el learning rate\n",
        "reduce_lr = ReduceLROnPlateau(\n",
        "    monitor='val_loss',     # Métrica a monitorear\n",
        "    factor=0.5,             # Multiplicar el learning rate por este factor\n",
        "    patience=4,             # Número de épocas sin mejora antes de reducir el learning rate\n",
        "    min_lr=1e-6,            # Valor mínimo del learning rate\n",
        "    verbose=1               # Mostrar mensaje cuando se reduzca el learning rate\n",
        ")\n"
      ]
    },
    {
      "cell_type": "markdown",
      "id": "EUPekw1X7FEp",
      "metadata": {
        "id": "EUPekw1X7FEp"
      },
      "source": [
        "# Compilación y entrenamiento del modelo\n",
        " Compilamos el modelo con el optimizador Adam y la función de pérdida categorical_crossentropy y a continuación entrenamos el modelo con el conjunto de datos aumentado."
      ]
    },
    {
      "cell_type": "code",
      "execution_count": 14,
      "id": "Q7YXEjuJo6tg",
      "metadata": {
        "colab": {
          "base_uri": "https://localhost:8080/"
        },
        "id": "Q7YXEjuJo6tg",
        "outputId": "ed5d1c7c-1a1e-4ded-9379-8686c0ee771d"
      },
      "outputs": [
        {
          "name": "stdout",
          "output_type": "stream",
          "text": [
            "Epoch 1/75\n",
            "\u001b[1m1688/1688\u001b[0m \u001b[32m━━━━━━━━━━━━━━━━━━━━\u001b[0m\u001b[37m\u001b[0m \u001b[1m34s\u001b[0m 13ms/step - accuracy: 0.8533 - loss: 0.4905 - val_accuracy: 0.9597 - val_loss: 0.1518 - learning_rate: 0.0010\n",
            "Epoch 2/75\n",
            "\u001b[1m1688/1688\u001b[0m \u001b[32m━━━━━━━━━━━━━━━━━━━━\u001b[0m\u001b[37m\u001b[0m \u001b[1m25s\u001b[0m 8ms/step - accuracy: 0.9711 - loss: 0.1154 - val_accuracy: 0.9646 - val_loss: 0.1366 - learning_rate: 0.0010\n",
            "Epoch 3/75\n",
            "\u001b[1m1688/1688\u001b[0m \u001b[32m━━━━━━━━━━━━━━━━━━━━\u001b[0m\u001b[37m\u001b[0m \u001b[1m21s\u001b[0m 8ms/step - accuracy: 0.9794 - loss: 0.0925 - val_accuracy: 0.9682 - val_loss: 0.1396 - learning_rate: 0.0010\n",
            "Epoch 4/75\n",
            "\u001b[1m1688/1688\u001b[0m \u001b[32m━━━━━━━━━━━━━━━━━━━━\u001b[0m\u001b[37m\u001b[0m \u001b[1m13s\u001b[0m 8ms/step - accuracy: 0.9828 - loss: 0.0892 - val_accuracy: 0.9686 - val_loss: 0.1451 - learning_rate: 0.0010\n",
            "Epoch 5/75\n",
            "\u001b[1m1688/1688\u001b[0m \u001b[32m━━━━━━━━━━━━━━━━━━━━\u001b[0m\u001b[37m\u001b[0m \u001b[1m13s\u001b[0m 8ms/step - accuracy: 0.9851 - loss: 0.0893 - val_accuracy: 0.9768 - val_loss: 0.1234 - learning_rate: 0.0010\n",
            "Epoch 6/75\n",
            "\u001b[1m1688/1688\u001b[0m \u001b[32m━━━━━━━━━━━━━━━━━━━━\u001b[0m\u001b[37m\u001b[0m \u001b[1m20s\u001b[0m 8ms/step - accuracy: 0.9872 - loss: 0.0868 - val_accuracy: 0.9785 - val_loss: 0.1215 - learning_rate: 0.0010\n",
            "Epoch 7/75\n",
            "\u001b[1m1688/1688\u001b[0m \u001b[32m━━━━━━━━━━━━━━━━━━━━\u001b[0m\u001b[37m\u001b[0m \u001b[1m13s\u001b[0m 8ms/step - accuracy: 0.9894 - loss: 0.0838 - val_accuracy: 0.9765 - val_loss: 0.1337 - learning_rate: 0.0010\n",
            "Epoch 8/75\n",
            "\u001b[1m1688/1688\u001b[0m \u001b[32m━━━━━━━━━━━━━━━━━━━━\u001b[0m\u001b[37m\u001b[0m \u001b[1m13s\u001b[0m 8ms/step - accuracy: 0.9896 - loss: 0.0851 - val_accuracy: 0.9810 - val_loss: 0.1184 - learning_rate: 0.0010\n",
            "Epoch 9/75\n",
            "\u001b[1m1688/1688\u001b[0m \u001b[32m━━━━━━━━━━━━━━━━━━━━\u001b[0m\u001b[37m\u001b[0m \u001b[1m13s\u001b[0m 8ms/step - accuracy: 0.9912 - loss: 0.0818 - val_accuracy: 0.9822 - val_loss: 0.1212 - learning_rate: 0.0010\n",
            "Epoch 10/75\n",
            "\u001b[1m1688/1688\u001b[0m \u001b[32m━━━━━━━━━━━━━━━━━━━━\u001b[0m\u001b[37m\u001b[0m \u001b[1m13s\u001b[0m 8ms/step - accuracy: 0.9922 - loss: 0.0775 - val_accuracy: 0.9788 - val_loss: 0.1255 - learning_rate: 0.0010\n",
            "Epoch 11/75\n",
            "\u001b[1m1688/1688\u001b[0m \u001b[32m━━━━━━━━━━━━━━━━━━━━\u001b[0m\u001b[37m\u001b[0m \u001b[1m21s\u001b[0m 8ms/step - accuracy: 0.9919 - loss: 0.0788 - val_accuracy: 0.9815 - val_loss: 0.1163 - learning_rate: 0.0010\n",
            "Epoch 12/75\n",
            "\u001b[1m1688/1688\u001b[0m \u001b[32m━━━━━━━━━━━━━━━━━━━━\u001b[0m\u001b[37m\u001b[0m \u001b[1m13s\u001b[0m 8ms/step - accuracy: 0.9921 - loss: 0.0771 - val_accuracy: 0.9840 - val_loss: 0.1115 - learning_rate: 0.0010\n",
            "Epoch 13/75\n",
            "\u001b[1m1688/1688\u001b[0m \u001b[32m━━━━━━━━━━━━━━━━━━━━\u001b[0m\u001b[37m\u001b[0m \u001b[1m21s\u001b[0m 8ms/step - accuracy: 0.9933 - loss: 0.0726 - val_accuracy: 0.9782 - val_loss: 0.1313 - learning_rate: 0.0010\n",
            "Epoch 14/75\n",
            "\u001b[1m1688/1688\u001b[0m \u001b[32m━━━━━━━━━━━━━━━━━━━━\u001b[0m\u001b[37m\u001b[0m \u001b[1m21s\u001b[0m 8ms/step - accuracy: 0.9926 - loss: 0.0733 - val_accuracy: 0.9822 - val_loss: 0.1158 - learning_rate: 0.0010\n",
            "Epoch 15/75\n",
            "\u001b[1m1688/1688\u001b[0m \u001b[32m━━━━━━━━━━━━━━━━━━━━\u001b[0m\u001b[37m\u001b[0m \u001b[1m20s\u001b[0m 8ms/step - accuracy: 0.9929 - loss: 0.0722 - val_accuracy: 0.9789 - val_loss: 0.1269 - learning_rate: 0.0010\n",
            "Epoch 16/75\n",
            "\u001b[1m1681/1688\u001b[0m \u001b[32m━━━━━━━━━━━━━━━━━━━\u001b[0m\u001b[37m━\u001b[0m \u001b[1m0s\u001b[0m 8ms/step - accuracy: 0.9942 - loss: 0.0686\n",
            "Epoch 16: ReduceLROnPlateau reducing learning rate to 0.0005000000237487257.\n",
            "\u001b[1m1688/1688\u001b[0m \u001b[32m━━━━━━━━━━━━━━━━━━━━\u001b[0m\u001b[37m\u001b[0m \u001b[1m20s\u001b[0m 8ms/step - accuracy: 0.9942 - loss: 0.0686 - val_accuracy: 0.9826 - val_loss: 0.1178 - learning_rate: 0.0010\n",
            "Epoch 17/75\n",
            "\u001b[1m1688/1688\u001b[0m \u001b[32m━━━━━━━━━━━━━━━━━━━━\u001b[0m\u001b[37m\u001b[0m \u001b[1m13s\u001b[0m 8ms/step - accuracy: 0.9958 - loss: 0.0619 - val_accuracy: 0.9853 - val_loss: 0.1101 - learning_rate: 5.0000e-04\n",
            "Epoch 18/75\n",
            "\u001b[1m1688/1688\u001b[0m \u001b[32m━━━━━━━━━━━━━━━━━━━━\u001b[0m\u001b[37m\u001b[0m \u001b[1m20s\u001b[0m 8ms/step - accuracy: 0.9978 - loss: 0.0511 - val_accuracy: 0.9842 - val_loss: 0.1052 - learning_rate: 5.0000e-04\n",
            "Epoch 19/75\n",
            "\u001b[1m1688/1688\u001b[0m \u001b[32m━━━━━━━━━━━━━━━━━━━━\u001b[0m\u001b[37m\u001b[0m \u001b[1m21s\u001b[0m 8ms/step - accuracy: 0.9971 - loss: 0.0493 - val_accuracy: 0.9847 - val_loss: 0.1023 - learning_rate: 5.0000e-04\n",
            "Epoch 20/75\n",
            "\u001b[1m1688/1688\u001b[0m \u001b[32m━━━━━━━━━━━━━━━━━━━━\u001b[0m\u001b[37m\u001b[0m \u001b[1m20s\u001b[0m 8ms/step - accuracy: 0.9973 - loss: 0.0470 - val_accuracy: 0.9839 - val_loss: 0.1075 - learning_rate: 5.0000e-04\n",
            "Epoch 21/75\n",
            "\u001b[1m1688/1688\u001b[0m \u001b[32m━━━━━━━━━━━━━━━━━━━━\u001b[0m\u001b[37m\u001b[0m \u001b[1m13s\u001b[0m 8ms/step - accuracy: 0.9971 - loss: 0.0445 - val_accuracy: 0.9848 - val_loss: 0.1037 - learning_rate: 5.0000e-04\n",
            "Epoch 22/75\n",
            "\u001b[1m1688/1688\u001b[0m \u001b[32m━━━━━━━━━━━━━━━━━━━━\u001b[0m\u001b[37m\u001b[0m \u001b[1m13s\u001b[0m 8ms/step - accuracy: 0.9980 - loss: 0.0406 - val_accuracy: 0.9851 - val_loss: 0.1038 - learning_rate: 5.0000e-04\n",
            "Epoch 23/75\n",
            "\u001b[1m1684/1688\u001b[0m \u001b[32m━━━━━━━━━━━━━━━━━━━\u001b[0m\u001b[37m━\u001b[0m \u001b[1m0s\u001b[0m 7ms/step - accuracy: 0.9972 - loss: 0.0419\n",
            "Epoch 23: ReduceLROnPlateau reducing learning rate to 0.0002500000118743628.\n",
            "\u001b[1m1688/1688\u001b[0m \u001b[32m━━━━━━━━━━━━━━━━━━━━\u001b[0m\u001b[37m\u001b[0m \u001b[1m13s\u001b[0m 8ms/step - accuracy: 0.9972 - loss: 0.0419 - val_accuracy: 0.9824 - val_loss: 0.1095 - learning_rate: 5.0000e-04\n",
            "Epoch 24/75\n",
            "\u001b[1m1688/1688\u001b[0m \u001b[32m━━━━━━━━━━━━━━━━━━━━\u001b[0m\u001b[37m\u001b[0m \u001b[1m20s\u001b[0m 8ms/step - accuracy: 0.9979 - loss: 0.0382 - val_accuracy: 0.9863 - val_loss: 0.0950 - learning_rate: 2.5000e-04\n",
            "Epoch 25/75\n",
            "\u001b[1m1688/1688\u001b[0m \u001b[32m━━━━━━━━━━━━━━━━━━━━\u001b[0m\u001b[37m\u001b[0m \u001b[1m21s\u001b[0m 8ms/step - accuracy: 0.9988 - loss: 0.0340 - val_accuracy: 0.9871 - val_loss: 0.0928 - learning_rate: 2.5000e-04\n",
            "Epoch 26/75\n",
            "\u001b[1m1688/1688\u001b[0m \u001b[32m━━━━━━━━━━━━━━━━━━━━\u001b[0m\u001b[37m\u001b[0m \u001b[1m13s\u001b[0m 8ms/step - accuracy: 0.9989 - loss: 0.0323 - val_accuracy: 0.9868 - val_loss: 0.0926 - learning_rate: 2.5000e-04\n",
            "Epoch 27/75\n",
            "\u001b[1m1688/1688\u001b[0m \u001b[32m━━━━━━━━━━━━━━━━━━━━\u001b[0m\u001b[37m\u001b[0m \u001b[1m13s\u001b[0m 8ms/step - accuracy: 0.9990 - loss: 0.0304 - val_accuracy: 0.9871 - val_loss: 0.0949 - learning_rate: 2.5000e-04\n",
            "Epoch 28/75\n",
            "\u001b[1m1688/1688\u001b[0m \u001b[32m━━━━━━━━━━━━━━━━━━━━\u001b[0m\u001b[37m\u001b[0m \u001b[1m13s\u001b[0m 8ms/step - accuracy: 0.9988 - loss: 0.0305 - val_accuracy: 0.9865 - val_loss: 0.0946 - learning_rate: 2.5000e-04\n",
            "Epoch 29/75\n",
            "\u001b[1m1688/1688\u001b[0m \u001b[32m━━━━━━━━━━━━━━━━━━━━\u001b[0m\u001b[37m\u001b[0m \u001b[1m20s\u001b[0m 8ms/step - accuracy: 0.9990 - loss: 0.0283 - val_accuracy: 0.9863 - val_loss: 0.0968 - learning_rate: 2.5000e-04\n",
            "Epoch 30/75\n",
            "\u001b[1m1688/1688\u001b[0m \u001b[32m━━━━━━━━━━━━━━━━━━━━\u001b[0m\u001b[37m\u001b[0m \u001b[1m0s\u001b[0m 7ms/step - accuracy: 0.9991 - loss: 0.0273\n",
            "Epoch 30: ReduceLROnPlateau reducing learning rate to 0.0001250000059371814.\n",
            "\u001b[1m1688/1688\u001b[0m \u001b[32m━━━━━━━━━━━━━━━━━━━━\u001b[0m\u001b[37m\u001b[0m \u001b[1m13s\u001b[0m 8ms/step - accuracy: 0.9991 - loss: 0.0273 - val_accuracy: 0.9853 - val_loss: 0.1016 - learning_rate: 2.5000e-04\n",
            "Epoch 31/75\n",
            "\u001b[1m1688/1688\u001b[0m \u001b[32m━━━━━━━━━━━━━━━━━━━━\u001b[0m\u001b[37m\u001b[0m \u001b[1m13s\u001b[0m 8ms/step - accuracy: 0.9992 - loss: 0.0257 - val_accuracy: 0.9872 - val_loss: 0.0978 - learning_rate: 1.2500e-04\n",
            "Epoch 32/75\n",
            "\u001b[1m1688/1688\u001b[0m \u001b[32m━━━━━━━━━━━━━━━━━━━━\u001b[0m\u001b[37m\u001b[0m \u001b[1m21s\u001b[0m 8ms/step - accuracy: 0.9995 - loss: 0.0244 - val_accuracy: 0.9866 - val_loss: 0.0950 - learning_rate: 1.2500e-04\n",
            "Epoch 33/75\n",
            "\u001b[1m1688/1688\u001b[0m \u001b[32m━━━━━━━━━━━━━━━━━━━━\u001b[0m\u001b[37m\u001b[0m \u001b[1m13s\u001b[0m 8ms/step - accuracy: 0.9996 - loss: 0.0235 - val_accuracy: 0.9872 - val_loss: 0.0918 - learning_rate: 1.2500e-04\n",
            "Epoch 34/75\n",
            "\u001b[1m1688/1688\u001b[0m \u001b[32m━━━━━━━━━━━━━━━━━━━━\u001b[0m\u001b[37m\u001b[0m \u001b[1m13s\u001b[0m 8ms/step - accuracy: 0.9996 - loss: 0.0226 - val_accuracy: 0.9872 - val_loss: 0.0919 - learning_rate: 1.2500e-04\n",
            "Epoch 35/75\n",
            "\u001b[1m1688/1688\u001b[0m \u001b[32m━━━━━━━━━━━━━━━━━━━━\u001b[0m\u001b[37m\u001b[0m \u001b[1m13s\u001b[0m 8ms/step - accuracy: 0.9996 - loss: 0.0220 - val_accuracy: 0.9858 - val_loss: 0.0962 - learning_rate: 1.2500e-04\n",
            "Epoch 36/75\n",
            "\u001b[1m1688/1688\u001b[0m \u001b[32m━━━━━━━━━━━━━━━━━━━━\u001b[0m\u001b[37m\u001b[0m \u001b[1m21s\u001b[0m 8ms/step - accuracy: 0.9996 - loss: 0.0211 - val_accuracy: 0.9872 - val_loss: 0.0933 - learning_rate: 1.2500e-04\n",
            "Epoch 37/75\n",
            "\u001b[1m1687/1688\u001b[0m \u001b[32m━━━━━━━━━━━━━━━━━━━\u001b[0m\u001b[37m━\u001b[0m \u001b[1m0s\u001b[0m 8ms/step - accuracy: 0.9995 - loss: 0.0205\n",
            "Epoch 37: ReduceLROnPlateau reducing learning rate to 6.25000029685907e-05.\n",
            "\u001b[1m1688/1688\u001b[0m \u001b[32m━━━━━━━━━━━━━━━━━━━━\u001b[0m\u001b[37m\u001b[0m \u001b[1m13s\u001b[0m 8ms/step - accuracy: 0.9995 - loss: 0.0205 - val_accuracy: 0.9859 - val_loss: 0.0937 - learning_rate: 1.2500e-04\n",
            "Epoch 38/75\n",
            "\u001b[1m1688/1688\u001b[0m \u001b[32m━━━━━━━━━━━━━━━━━━━━\u001b[0m\u001b[37m\u001b[0m \u001b[1m21s\u001b[0m 8ms/step - accuracy: 0.9994 - loss: 0.0201 - val_accuracy: 0.9868 - val_loss: 0.0911 - learning_rate: 6.2500e-05\n",
            "Epoch 39/75\n",
            "\u001b[1m1688/1688\u001b[0m \u001b[32m━━━━━━━━━━━━━━━━━━━━\u001b[0m\u001b[37m\u001b[0m \u001b[1m14s\u001b[0m 8ms/step - accuracy: 0.9996 - loss: 0.0193 - val_accuracy: 0.9870 - val_loss: 0.0913 - learning_rate: 6.2500e-05\n",
            "Epoch 40/75\n",
            "\u001b[1m1688/1688\u001b[0m \u001b[32m━━━━━━━━━━━━━━━━━━━━\u001b[0m\u001b[37m\u001b[0m \u001b[1m13s\u001b[0m 8ms/step - accuracy: 0.9998 - loss: 0.0187 - val_accuracy: 0.9874 - val_loss: 0.0918 - learning_rate: 6.2500e-05\n",
            "Epoch 41/75\n",
            "\u001b[1m1688/1688\u001b[0m \u001b[32m━━━━━━━━━━━━━━━━━━━━\u001b[0m\u001b[37m\u001b[0m \u001b[1m13s\u001b[0m 8ms/step - accuracy: 0.9998 - loss: 0.0182 - val_accuracy: 0.9870 - val_loss: 0.0911 - learning_rate: 6.2500e-05\n",
            "Epoch 42/75\n",
            "\u001b[1m1687/1688\u001b[0m \u001b[32m━━━━━━━━━━━━━━━━━━━\u001b[0m\u001b[37m━\u001b[0m \u001b[1m0s\u001b[0m 7ms/step - accuracy: 0.9997 - loss: 0.0178\n",
            "Epoch 42: ReduceLROnPlateau reducing learning rate to 3.125000148429535e-05.\n",
            "\u001b[1m1688/1688\u001b[0m \u001b[32m━━━━━━━━━━━━━━━━━━━━\u001b[0m\u001b[37m\u001b[0m \u001b[1m13s\u001b[0m 8ms/step - accuracy: 0.9997 - loss: 0.0178 - val_accuracy: 0.9877 - val_loss: 0.0911 - learning_rate: 6.2500e-05\n",
            "Epoch 43/75\n",
            "\u001b[1m1688/1688\u001b[0m \u001b[32m━━━━━━━━━━━━━━━━━━━━\u001b[0m\u001b[37m\u001b[0m \u001b[1m13s\u001b[0m 8ms/step - accuracy: 0.9998 - loss: 0.0175 - val_accuracy: 0.9872 - val_loss: 0.0916 - learning_rate: 3.1250e-05\n",
            "Epoch 44/75\n",
            "\u001b[1m1688/1688\u001b[0m \u001b[32m━━━━━━━━━━━━━━━━━━━━\u001b[0m\u001b[37m\u001b[0m \u001b[1m13s\u001b[0m 8ms/step - accuracy: 0.9998 - loss: 0.0172 - val_accuracy: 0.9876 - val_loss: 0.0901 - learning_rate: 3.1250e-05\n",
            "Epoch 45/75\n",
            "\u001b[1m1688/1688\u001b[0m \u001b[32m━━━━━━━━━━━━━━━━━━━━\u001b[0m\u001b[37m\u001b[0m \u001b[1m13s\u001b[0m 8ms/step - accuracy: 0.9998 - loss: 0.0171 - val_accuracy: 0.9867 - val_loss: 0.0897 - learning_rate: 3.1250e-05\n",
            "Epoch 46/75\n",
            "\u001b[1m1688/1688\u001b[0m \u001b[32m━━━━━━━━━━━━━━━━━━━━\u001b[0m\u001b[37m\u001b[0m \u001b[1m20s\u001b[0m 8ms/step - accuracy: 0.9999 - loss: 0.0166 - val_accuracy: 0.9871 - val_loss: 0.0893 - learning_rate: 3.1250e-05\n",
            "Epoch 47/75\n",
            "\u001b[1m1688/1688\u001b[0m \u001b[32m━━━━━━━━━━━━━━━━━━━━\u001b[0m\u001b[37m\u001b[0m \u001b[1m20s\u001b[0m 8ms/step - accuracy: 0.9999 - loss: 0.0164 - val_accuracy: 0.9872 - val_loss: 0.0890 - learning_rate: 3.1250e-05\n",
            "Epoch 48/75\n",
            "\u001b[1m1688/1688\u001b[0m \u001b[32m━━━━━━━━━━━━━━━━━━━━\u001b[0m\u001b[37m\u001b[0m \u001b[1m21s\u001b[0m 8ms/step - accuracy: 0.9999 - loss: 0.0161 - val_accuracy: 0.9874 - val_loss: 0.0895 - learning_rate: 3.1250e-05\n",
            "Epoch 49/75\n",
            "\u001b[1m1688/1688\u001b[0m \u001b[32m━━━━━━━━━━━━━━━━━━━━\u001b[0m\u001b[37m\u001b[0m \u001b[1m13s\u001b[0m 8ms/step - accuracy: 0.9999 - loss: 0.0160 - val_accuracy: 0.9873 - val_loss: 0.0902 - learning_rate: 3.1250e-05\n",
            "Epoch 50/75\n",
            "\u001b[1m1688/1688\u001b[0m \u001b[32m━━━━━━━━━━━━━━━━━━━━\u001b[0m\u001b[37m\u001b[0m \u001b[1m20s\u001b[0m 8ms/step - accuracy: 0.9998 - loss: 0.0157 - val_accuracy: 0.9874 - val_loss: 0.0915 - learning_rate: 3.1250e-05\n",
            "Epoch 51/75\n",
            "\u001b[1m1688/1688\u001b[0m \u001b[32m━━━━━━━━━━━━━━━━━━━━\u001b[0m\u001b[37m\u001b[0m \u001b[1m21s\u001b[0m 8ms/step - accuracy: 0.9999 - loss: 0.0154 - val_accuracy: 0.9871 - val_loss: 0.0887 - learning_rate: 3.1250e-05\n",
            "Epoch 52/75\n",
            "\u001b[1m1688/1688\u001b[0m \u001b[32m━━━━━━━━━━━━━━━━━━━━\u001b[0m\u001b[37m\u001b[0m \u001b[1m20s\u001b[0m 8ms/step - accuracy: 0.9998 - loss: 0.0153 - val_accuracy: 0.9875 - val_loss: 0.0879 - learning_rate: 3.1250e-05\n",
            "Epoch 53/75\n",
            "\u001b[1m1688/1688\u001b[0m \u001b[32m━━━━━━━━━━━━━━━━━━━━\u001b[0m\u001b[37m\u001b[0m \u001b[1m20s\u001b[0m 8ms/step - accuracy: 0.9999 - loss: 0.0151 - val_accuracy: 0.9878 - val_loss: 0.0861 - learning_rate: 3.1250e-05\n",
            "Epoch 54/75\n",
            "\u001b[1m1688/1688\u001b[0m \u001b[32m━━━━━━━━━━━━━━━━━━━━\u001b[0m\u001b[37m\u001b[0m \u001b[1m21s\u001b[0m 8ms/step - accuracy: 0.9999 - loss: 0.0147 - val_accuracy: 0.9875 - val_loss: 0.0856 - learning_rate: 3.1250e-05\n",
            "Epoch 55/75\n",
            "\u001b[1m1688/1688\u001b[0m \u001b[32m━━━━━━━━━━━━━━━━━━━━\u001b[0m\u001b[37m\u001b[0m \u001b[1m13s\u001b[0m 8ms/step - accuracy: 0.9999 - loss: 0.0146 - val_accuracy: 0.9871 - val_loss: 0.0867 - learning_rate: 3.1250e-05\n",
            "Epoch 56/75\n",
            "\u001b[1m1688/1688\u001b[0m \u001b[32m━━━━━━━━━━━━━━━━━━━━\u001b[0m\u001b[37m\u001b[0m \u001b[1m20s\u001b[0m 8ms/step - accuracy: 0.9999 - loss: 0.0144 - val_accuracy: 0.9868 - val_loss: 0.0884 - learning_rate: 3.1250e-05\n",
            "Epoch 57/75\n",
            "\u001b[1m1688/1688\u001b[0m \u001b[32m━━━━━━━━━━━━━━━━━━━━\u001b[0m\u001b[37m\u001b[0m \u001b[1m13s\u001b[0m 8ms/step - accuracy: 0.9999 - loss: 0.0142 - val_accuracy: 0.9869 - val_loss: 0.0918 - learning_rate: 3.1250e-05\n",
            "Epoch 58/75\n",
            "\u001b[1m1686/1688\u001b[0m \u001b[32m━━━━━━━━━━━━━━━━━━━\u001b[0m\u001b[37m━\u001b[0m \u001b[1m0s\u001b[0m 8ms/step - accuracy: 0.9999 - loss: 0.0140\n",
            "Epoch 58: ReduceLROnPlateau reducing learning rate to 1.5625000742147677e-05.\n",
            "\u001b[1m1688/1688\u001b[0m \u001b[32m━━━━━━━━━━━━━━━━━━━━\u001b[0m\u001b[37m\u001b[0m \u001b[1m21s\u001b[0m 8ms/step - accuracy: 0.9999 - loss: 0.0140 - val_accuracy: 0.9872 - val_loss: 0.0908 - learning_rate: 3.1250e-05\n",
            "Epoch 59/75\n",
            "\u001b[1m1688/1688\u001b[0m \u001b[32m━━━━━━━━━━━━━━━━━━━━\u001b[0m\u001b[37m\u001b[0m \u001b[1m13s\u001b[0m 8ms/step - accuracy: 0.9999 - loss: 0.0138 - val_accuracy: 0.9870 - val_loss: 0.0912 - learning_rate: 1.5625e-05\n",
            "Epoch 60/75\n",
            "\u001b[1m1688/1688\u001b[0m \u001b[32m━━━━━━━━━━━━━━━━━━━━\u001b[0m\u001b[37m\u001b[0m \u001b[1m13s\u001b[0m 8ms/step - accuracy: 0.9999 - loss: 0.0137 - val_accuracy: 0.9869 - val_loss: 0.0913 - learning_rate: 1.5625e-05\n",
            "Epoch 61/75\n",
            "\u001b[1m1688/1688\u001b[0m \u001b[32m━━━━━━━━━━━━━━━━━━━━\u001b[0m\u001b[37m\u001b[0m \u001b[1m13s\u001b[0m 8ms/step - accuracy: 1.0000 - loss: 0.0135 - val_accuracy: 0.9875 - val_loss: 0.0903 - learning_rate: 1.5625e-05\n",
            "Epoch 62/75\n",
            "\u001b[1m1684/1688\u001b[0m \u001b[32m━━━━━━━━━━━━━━━━━━━\u001b[0m\u001b[37m━\u001b[0m \u001b[1m0s\u001b[0m 7ms/step - accuracy: 0.9999 - loss: 0.0134\n",
            "Epoch 62: ReduceLROnPlateau reducing learning rate to 7.812500371073838e-06.\n",
            "\u001b[1m1688/1688\u001b[0m \u001b[32m━━━━━━━━━━━━━━━━━━━━\u001b[0m\u001b[37m\u001b[0m \u001b[1m13s\u001b[0m 8ms/step - accuracy: 0.9999 - loss: 0.0134 - val_accuracy: 0.9872 - val_loss: 0.0903 - learning_rate: 1.5625e-05\n",
            "Epoch 63/75\n",
            "\u001b[1m1688/1688\u001b[0m \u001b[32m━━━━━━━━━━━━━━━━━━━━\u001b[0m\u001b[37m\u001b[0m \u001b[1m13s\u001b[0m 8ms/step - accuracy: 0.9999 - loss: 0.0134 - val_accuracy: 0.9872 - val_loss: 0.0902 - learning_rate: 7.8125e-06\n",
            "Epoch 64/75\n",
            "\u001b[1m1688/1688\u001b[0m \u001b[32m━━━━━━━━━━━━━━━━━━━━\u001b[0m\u001b[37m\u001b[0m \u001b[1m21s\u001b[0m 8ms/step - accuracy: 0.9999 - loss: 0.0133 - val_accuracy: 0.9877 - val_loss: 0.0894 - learning_rate: 7.8125e-06\n",
            "Epoch 65/75\n",
            "\u001b[1m1688/1688\u001b[0m \u001b[32m━━━━━━━━━━━━━━━━━━━━\u001b[0m\u001b[37m\u001b[0m \u001b[1m20s\u001b[0m 8ms/step - accuracy: 0.9999 - loss: 0.0132 - val_accuracy: 0.9876 - val_loss: 0.0887 - learning_rate: 7.8125e-06\n",
            "Epoch 66/75\n",
            "\u001b[1m1687/1688\u001b[0m \u001b[32m━━━━━━━━━━━━━━━━━━━\u001b[0m\u001b[37m━\u001b[0m \u001b[1m0s\u001b[0m 8ms/step - accuracy: 0.9999 - loss: 0.0132\n",
            "Epoch 66: ReduceLROnPlateau reducing learning rate to 3.906250185536919e-06.\n",
            "\u001b[1m1688/1688\u001b[0m \u001b[32m━━━━━━━━━━━━━━━━━━━━\u001b[0m\u001b[37m\u001b[0m \u001b[1m20s\u001b[0m 8ms/step - accuracy: 0.9999 - loss: 0.0132 - val_accuracy: 0.9870 - val_loss: 0.0891 - learning_rate: 7.8125e-06\n",
            "Epoch 67/75\n",
            "\u001b[1m1688/1688\u001b[0m \u001b[32m━━━━━━━━━━━━━━━━━━━━\u001b[0m\u001b[37m\u001b[0m \u001b[1m21s\u001b[0m 8ms/step - accuracy: 0.9999 - loss: 0.0131 - val_accuracy: 0.9877 - val_loss: 0.0887 - learning_rate: 3.9063e-06\n",
            "Epoch 68/75\n",
            "\u001b[1m1688/1688\u001b[0m \u001b[32m━━━━━━━━━━━━━━━━━━━━\u001b[0m\u001b[37m\u001b[0m \u001b[1m13s\u001b[0m 8ms/step - accuracy: 1.0000 - loss: 0.0131 - val_accuracy: 0.9872 - val_loss: 0.0890 - learning_rate: 3.9063e-06\n",
            "Epoch 69/75\n",
            "\u001b[1m1688/1688\u001b[0m \u001b[32m━━━━━━━━━━━━━━━━━━━━\u001b[0m\u001b[37m\u001b[0m \u001b[1m21s\u001b[0m 8ms/step - accuracy: 0.9999 - loss: 0.0131 - val_accuracy: 0.9870 - val_loss: 0.0886 - learning_rate: 3.9063e-06\n",
            "Epoch 70/75\n",
            "\u001b[1m1683/1688\u001b[0m \u001b[32m━━━━━━━━━━━━━━━━━━━\u001b[0m\u001b[37m━\u001b[0m \u001b[1m0s\u001b[0m 8ms/step - accuracy: 0.9999 - loss: 0.0132\n",
            "Epoch 70: ReduceLROnPlateau reducing learning rate to 1.9531250927684596e-06.\n",
            "\u001b[1m1688/1688\u001b[0m \u001b[32m━━━━━━━━━━━━━━━━━━━━\u001b[0m\u001b[37m\u001b[0m \u001b[1m13s\u001b[0m 8ms/step - accuracy: 0.9999 - loss: 0.0132 - val_accuracy: 0.9872 - val_loss: 0.0888 - learning_rate: 3.9063e-06\n",
            "Epoch 71/75\n",
            "\u001b[1m1688/1688\u001b[0m \u001b[32m━━━━━━━━━━━━━━━━━━━━\u001b[0m\u001b[37m\u001b[0m \u001b[1m20s\u001b[0m 8ms/step - accuracy: 0.9999 - loss: 0.0132 - val_accuracy: 0.9872 - val_loss: 0.0880 - learning_rate: 1.9531e-06\n",
            "Epoch 72/75\n",
            "\u001b[1m1688/1688\u001b[0m \u001b[32m━━━━━━━━━━━━━━━━━━━━\u001b[0m\u001b[37m\u001b[0m \u001b[1m21s\u001b[0m 8ms/step - accuracy: 1.0000 - loss: 0.0129 - val_accuracy: 0.9874 - val_loss: 0.0888 - learning_rate: 1.9531e-06\n",
            "Epoch 73/75\n",
            "\u001b[1m1688/1688\u001b[0m \u001b[32m━━━━━━━━━━━━━━━━━━━━\u001b[0m\u001b[37m\u001b[0m \u001b[1m21s\u001b[0m 8ms/step - accuracy: 0.9999 - loss: 0.0131 - val_accuracy: 0.9868 - val_loss: 0.0891 - learning_rate: 1.9531e-06\n",
            "Epoch 74/75\n",
            "\u001b[1m1685/1688\u001b[0m \u001b[32m━━━━━━━━━━━━━━━━━━━\u001b[0m\u001b[37m━\u001b[0m \u001b[1m0s\u001b[0m 8ms/step - accuracy: 0.9999 - loss: 0.0130\n",
            "Epoch 74: ReduceLROnPlateau reducing learning rate to 1e-06.\n",
            "\u001b[1m1688/1688\u001b[0m \u001b[32m━━━━━━━━━━━━━━━━━━━━\u001b[0m\u001b[37m\u001b[0m \u001b[1m13s\u001b[0m 8ms/step - accuracy: 0.9999 - loss: 0.0130 - val_accuracy: 0.9872 - val_loss: 0.0887 - learning_rate: 1.9531e-06\n",
            "Epoch 75/75\n",
            "\u001b[1m1688/1688\u001b[0m \u001b[32m━━━━━━━━━━━━━━━━━━━━\u001b[0m\u001b[37m\u001b[0m \u001b[1m13s\u001b[0m 8ms/step - accuracy: 0.9999 - loss: 0.0130 - val_accuracy: 0.9870 - val_loss: 0.0896 - learning_rate: 1.0000e-06\n"
          ]
        }
      ],
      "source": [
        "optimizer = tf.keras.optimizers.Adam(learning_rate=0.001)\n",
        "model.compile(optimizer=optimizer, loss='categorical_crossentropy', metrics=['accuracy'])\n",
        "\n",
        "start_time = time.time()\n",
        "model.fit(images_augmented, etiquetas_augmented, epochs=75, batch_size=64, validation_split=0.1, callbacks=[reduce_lr])\n",
        "end_time = time.time()"
      ]
    },
    {
      "cell_type": "code",
      "execution_count": 15,
      "id": "YO6ktM-Gnua1",
      "metadata": {
        "colab": {
          "base_uri": "https://localhost:8080/"
        },
        "id": "YO6ktM-Gnua1",
        "outputId": "85aae58c-9ced-4da2-bda7-da53e0ebfc21"
      },
      "outputs": [
        {
          "name": "stdout",
          "output_type": "stream",
          "text": [
            "Tiempo de entrenamiento: 1275.2312047481537 segundos\n"
          ]
        }
      ],
      "source": [
        "print(f\"Tiempo de entrenamiento: {end_time - start_time} segundos\")"
      ]
    },
    {
      "cell_type": "markdown",
      "id": "hpmic4rZqwKC",
      "metadata": {
        "id": "hpmic4rZqwKC"
      },
      "source": [
        "# Evaluación del modelo\n",
        "\n",
        "### Primero con los mismos datos de entrenamiento"
      ]
    },
    {
      "cell_type": "code",
      "execution_count": 16,
      "id": "JJALSubhqToj",
      "metadata": {
        "colab": {
          "base_uri": "https://localhost:8080/"
        },
        "id": "JJALSubhqToj",
        "outputId": "d6b77fa6-834a-45a6-8830-b53e9efe8bd4"
      },
      "outputs": [
        {
          "name": "stdout",
          "output_type": "stream",
          "text": [
            "\u001b[1m3750/3750\u001b[0m \u001b[32m━━━━━━━━━━━━━━━━━━━━\u001b[0m\u001b[37m\u001b[0m \u001b[1m6s\u001b[0m 2ms/step\n",
            "Precisión:  99.87 %, Tasa de error:  0.12999999999999545 %\n"
          ]
        }
      ],
      "source": [
        "from sklearn.metrics import accuracy_score\n",
        "preds_train = model.predict(images_augmented).argmax(axis=1)\n",
        "\n",
        "acc = accuracy_score(etiquetas_augmented.argmax(axis=1), preds_train)\n",
        "print(\"Precisión: \", acc*100, \"%, Tasa de error: \", 100 - acc*100 ,\"%\")\n",
        "\n"
      ]
    },
    {
      "cell_type": "markdown",
      "id": "tncUEIpTopiZ",
      "metadata": {
        "id": "tncUEIpTopiZ"
      },
      "source": [
        "### Ahora con los datos para test"
      ]
    },
    {
      "cell_type": "code",
      "execution_count": 17,
      "id": "UYAlDWVJow-y",
      "metadata": {
        "colab": {
          "base_uri": "https://localhost:8080/"
        },
        "id": "UYAlDWVJow-y",
        "outputId": "9a610517-c7a6-4f2d-b04c-844279395cd0"
      },
      "outputs": [
        {
          "name": "stdout",
          "output_type": "stream",
          "text": [
            "\u001b[1m313/313\u001b[0m \u001b[32m━━━━━━━━━━━━━━━━━━━━\u001b[0m\u001b[37m\u001b[0m \u001b[1m1s\u001b[0m 4ms/step\n",
            "[7 2 1 ... 4 5 6]\n",
            "[5 0 4 ... 8 3 7]\n",
            "Precisión:  99.68 %, Tasa de error:  0.3199999999999932 %\n"
          ]
        }
      ],
      "source": [
        "preds_test = model.predict(images_test).argmax(axis=1)\n",
        "print (preds_test)\n",
        "print (preds_train)\n",
        "\n",
        "acc_test = accuracy_score(etiquetas_test, preds_test)\n",
        "print(\"Precisión: \", acc_test*100, \"%, Tasa de error: \", 100 - acc_test*100, \"%\")"
      ]
    },
    {
      "cell_type": "markdown",
      "id": "EQ6vkCptUenQ",
      "metadata": {
        "id": "EQ6vkCptUenQ"
      },
      "source": [
        "0.379%"
      ]
    },
    {
      "cell_type": "code",
      "execution_count": 18,
      "id": "y2hBW49cR2A-",
      "metadata": {
        "colab": {
          "base_uri": "https://localhost:8080/",
          "height": 564
        },
        "id": "y2hBW49cR2A-",
        "outputId": "02fb4d66-c86c-4c57-a21e-f7cc177528a6"
      },
      "outputs": [
        {
          "data": {
            "image/png": "[encoded data removed]",
            "text/plain": [
              "<Figure size 800x600 with 2 Axes>"
            ]
          },
          "metadata": {},
          "output_type": "display_data"
        }
      ],
      "source": [
        "from sklearn.metrics import confusion_matrix\n",
        "import seaborn as sns\n",
        "import matplotlib.pyplot as plt\n",
        "\n",
        "# Generar la matriz de confusión\n",
        "conf_matrix = confusion_matrix(etiquetas_test, preds_test)\n",
        "\n",
        "# Crear un mapa de calor para visualizar la matriz\n",
        "plt.figure(figsize=(8, 6))\n",
        "sns.heatmap(conf_matrix, annot=True, fmt='d', cmap='Blues', xticklabels=range(10), yticklabels=range(10))\n",
        "plt.title('Matriz de Confusión en Datos de Test')\n",
        "plt.xlabel('Predicción')\n",
        "plt.ylabel('Etiqueta Verdadera')\n",
        "plt.show()\n"
      ]
    },
    {
      "cell_type": "code",
      "execution_count": 19,
      "id": "pARawuvLSCVY",
      "metadata": {
        "colab": {
          "base_uri": "https://localhost:8080/",
          "height": 565
        },
        "id": "pARawuvLSCVY",
        "outputId": "b41b6d87-6baa-4969-c540-76228a65f509"
      },
      "outputs": [
        {
          "data": {
            "image/png": "[encoded data removed]",
            "text/plain": [
              "<Figure size 800x600 with 1 Axes>"
            ]
          },
          "metadata": {},
          "output_type": "display_data"
        }
      ],
      "source": [
        "# Calcular la precisión por clase\n",
        "import numpy as np\n",
        "\n",
        "precisiones_por_clase = []\n",
        "for clase in range(10):\n",
        "    idx = np.where(etiquetas_test == clase)\n",
        "    acc_clase = accuracy_score(etiquetas_test[idx], preds_test[idx])\n",
        "    precisiones_por_clase.append(acc_clase * 100)\n",
        "\n",
        "# Crear el gráfico de barras\n",
        "plt.figure(figsize=(8, 6))\n",
        "plt.bar(range(10), precisiones_por_clase, color='skyblue')\n",
        "plt.title('Precisión por Clase en el Conjunto de Test')\n",
        "plt.xlabel('Clase')\n",
        "plt.ylabel('Precisión (%)')\n",
        "plt.xticks(range(10))\n",
        "plt.ylim(90, 100)  # Ajustar límites para facilitar la comparación\n",
        "plt.show()\n"
      ]
    },
    {
      "cell_type": "code",
      "execution_count": 20,
      "id": "vsJztNR_RhOZ",
      "metadata": {
        "id": "vsJztNR_RhOZ"
      },
      "outputs": [],
      "source": [
        "from google.colab import runtime\n",
        "runtime.unassign()"
      ]
    }
  ],
  "metadata": {
    "accelerator": "GPU",
    "colab": {
      "gpuType": "T4",
      "provenance": []
    },
    "kernelspec": {
      "display_name": "Python 3",
      "name": "python3"
    },
    "language_info": {
      "codemirror_mode": {
        "name": "ipython",
        "version": 3
      },
      "file_extension": ".py",
      "mimetype": "text/x-python",
      "name": "python",
      "nbconvert_exporter": "python",
      "pygments_lexer": "ipython3",
      "version": "3.12.4"
    }
  },
  "nbformat": 4,
  "nbformat_minor": 5
}
